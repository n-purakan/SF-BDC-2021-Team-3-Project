{
 "cells": [
  {
   "cell_type": "code",
   "execution_count": 1,
   "id": "b88ea428",
   "metadata": {
    "scrolled": false
   },
   "outputs": [
    {
     "name": "stderr",
     "output_type": "stream",
     "text": [
      "[nltk_data] Downloading package vader_lexicon to\n",
      "[nltk_data]     /Users/eshanyepurakan/nltk_data...\n",
      "[nltk_data]   Package vader_lexicon is already up-to-date!\n"
     ]
    }
   ],
   "source": [
    "#import necessary packages\n",
    "import pandas as pd\n",
    "import nltk\n",
    "nltk.download('vader_lexicon')\n",
    "from nltk.sentiment.vader import SentimentIntensityAnalyzer\n",
    "sid = SentimentIntensityAnalyzer()"
   ]
  },
  {
   "cell_type": "code",
   "execution_count": 2,
   "id": "58ad3c60",
   "metadata": {
    "scrolled": false
   },
   "outputs": [
    {
     "name": "stderr",
     "output_type": "stream",
     "text": [
      "/opt/anaconda3/lib/python3.8/site-packages/IPython/core/interactiveshell.py:3165: DtypeWarning: Columns (1,2) have mixed types.Specify dtype option on import or set low_memory=False.\n",
      "  has_raised = await self.run_ast_nodes(code_ast.body, cell_name,\n"
     ]
    }
   ],
   "source": [
    "#read in csv\n",
    "df = pd.read_csv('/Users/eshanyepurakan/Downloads/BaselineTWEET/Clean.csv')"
   ]
  },
  {
   "cell_type": "code",
   "execution_count": 7,
   "id": "6147a45c",
   "metadata": {},
   "outputs": [
    {
     "data": {
      "text/plain": [
       "(4093081, 6)"
      ]
     },
     "execution_count": 7,
     "metadata": {},
     "output_type": "execute_result"
    }
   ],
   "source": [
    "df.shape"
   ]
  },
  {
   "cell_type": "code",
   "execution_count": 4,
   "id": "03d5e5e0",
   "metadata": {},
   "outputs": [
    {
     "data": {
      "text/html": [
       "<div>\n",
       "<style scoped>\n",
       "    .dataframe tbody tr th:only-of-type {\n",
       "        vertical-align: middle;\n",
       "    }\n",
       "\n",
       "    .dataframe tbody tr th {\n",
       "        vertical-align: top;\n",
       "    }\n",
       "\n",
       "    .dataframe thead th {\n",
       "        text-align: right;\n",
       "    }\n",
       "</style>\n",
       "<table border=\"1\" class=\"dataframe\">\n",
       "  <thead>\n",
       "    <tr style=\"text-align: right;\">\n",
       "      <th></th>\n",
       "      <th>Unnamed: 0</th>\n",
       "      <th>id</th>\n",
       "      <th>conversation_id</th>\n",
       "      <th>date</th>\n",
       "      <th>tweet</th>\n",
       "      <th>clean_tweet</th>\n",
       "    </tr>\n",
       "  </thead>\n",
       "  <tbody>\n",
       "    <tr>\n",
       "      <th>0</th>\n",
       "      <td>0</td>\n",
       "      <td>1230000000000000000.0</td>\n",
       "      <td>1230000000000000000.0</td>\n",
       "      <td>2020-03-01 18:59</td>\n",
       "      <td>AstraZeneca sheds another drugline  https://t....</td>\n",
       "      <td>AstraZeneca sheds another drugline</td>\n",
       "    </tr>\n",
       "    <tr>\n",
       "      <th>1</th>\n",
       "      <td>1</td>\n",
       "      <td>1230000000000000000.0</td>\n",
       "      <td>1230000000000000000.0</td>\n",
       "      <td>2020-03-01 18:59</td>\n",
       "      <td>omg hicieron la version moderna de scum yaaas ...</td>\n",
       "      <td>omg hicieron la version moderna de scum yaaas ...</td>\n",
       "    </tr>\n",
       "    <tr>\n",
       "      <th>2</th>\n",
       "      <td>2</td>\n",
       "      <td>1230000000000000000.0</td>\n",
       "      <td>1230000000000000000.0</td>\n",
       "      <td>2020-03-01 18:59</td>\n",
       "      <td>Remember The Church of Notre Dame. Its going t...</td>\n",
       "      <td>Remember The Church of Notre Dame. Its going t...</td>\n",
       "    </tr>\n",
       "    <tr>\n",
       "      <th>3</th>\n",
       "      <td>3</td>\n",
       "      <td>1230000000000000000.0</td>\n",
       "      <td>1230000000000000000.0</td>\n",
       "      <td>2020-03-01 18:49</td>\n",
       "      <td>Moderna currently has strategic alliances for ...</td>\n",
       "      <td>Moderna currently has strategic alliances for ...</td>\n",
       "    </tr>\n",
       "    <tr>\n",
       "      <th>4</th>\n",
       "      <td>4</td>\n",
       "      <td>1230000000000000000.0</td>\n",
       "      <td>1230000000000000000.0</td>\n",
       "      <td>2020-03-01 18:44</td>\n",
       "      <td>Victory! Pharma Giant Pfizer Bans the Cruel Fo...</td>\n",
       "      <td>Victory! Pharma Giant Pfizer Bans the Cruel Fo...</td>\n",
       "    </tr>\n",
       "  </tbody>\n",
       "</table>\n",
       "</div>"
      ],
      "text/plain": [
       "   Unnamed: 0                     id        conversation_id              date  \\\n",
       "0           0  1230000000000000000.0  1230000000000000000.0  2020-03-01 18:59   \n",
       "1           1  1230000000000000000.0  1230000000000000000.0  2020-03-01 18:59   \n",
       "2           2  1230000000000000000.0  1230000000000000000.0  2020-03-01 18:59   \n",
       "3           3  1230000000000000000.0  1230000000000000000.0  2020-03-01 18:49   \n",
       "4           4  1230000000000000000.0  1230000000000000000.0  2020-03-01 18:44   \n",
       "\n",
       "                                               tweet  \\\n",
       "0  AstraZeneca sheds another drugline  https://t....   \n",
       "1  omg hicieron la version moderna de scum yaaas ...   \n",
       "2  Remember The Church of Notre Dame. Its going t...   \n",
       "3  Moderna currently has strategic alliances for ...   \n",
       "4  Victory! Pharma Giant Pfizer Bans the Cruel Fo...   \n",
       "\n",
       "                                         clean_tweet  \n",
       "0               AstraZeneca sheds another drugline    \n",
       "1  omg hicieron la version moderna de scum yaaas ...  \n",
       "2  Remember The Church of Notre Dame. Its going t...  \n",
       "3  Moderna currently has strategic alliances for ...  \n",
       "4  Victory! Pharma Giant Pfizer Bans the Cruel Fo...  "
      ]
     },
     "execution_count": 4,
     "metadata": {},
     "output_type": "execute_result"
    }
   ],
   "source": [
    "df.head()"
   ]
  },
  {
   "cell_type": "code",
   "execution_count": 8,
   "id": "978303bf",
   "metadata": {},
   "outputs": [],
   "source": [
    "#ensure tweets are strings\n",
    "df.clean_tweet = df.clean_tweet.astype(str)"
   ]
  },
  {
   "cell_type": "code",
   "execution_count": 9,
   "id": "0ad0c76e",
   "metadata": {
    "scrolled": true
   },
   "outputs": [],
   "source": [
    "df['vader_scores_compound'] = df['clean_tweet'].apply(lambda x: sid.polarity_scores(x)['compound'])\n"
   ]
  },
  {
   "cell_type": "code",
   "execution_count": 10,
   "id": "9b067481",
   "metadata": {},
   "outputs": [
    {
     "data": {
      "text/plain": [
       "(4093081, 7)"
      ]
     },
     "execution_count": 10,
     "metadata": {},
     "output_type": "execute_result"
    }
   ],
   "source": [
    "df.head()\n",
    "df.shape"
   ]
  },
  {
   "cell_type": "code",
   "execution_count": 11,
   "id": "a640f209",
   "metadata": {},
   "outputs": [],
   "source": [
    "#sentiment is classifed in the same way between vader and textblob:\n",
    "def classify_sentiment(score):\n",
    "    if score > 0:\n",
    "        return 'POSITIVE'\n",
    "    if score < 0:\n",
    "        return 'NEGATIVE'\n",
    "    else:\n",
    "        return 'NEUTRAL'"
   ]
  },
  {
   "cell_type": "code",
   "execution_count": 12,
   "id": "d2c34dbd",
   "metadata": {},
   "outputs": [],
   "source": [
    "df['vader_classification'] = df['vader_scores_compound'].apply(lambda x: classify_sentiment(x))"
   ]
  },
  {
   "cell_type": "code",
   "execution_count": 13,
   "id": "f6e7241e",
   "metadata": {},
   "outputs": [
    {
     "data": {
      "text/html": [
       "<div>\n",
       "<style scoped>\n",
       "    .dataframe tbody tr th:only-of-type {\n",
       "        vertical-align: middle;\n",
       "    }\n",
       "\n",
       "    .dataframe tbody tr th {\n",
       "        vertical-align: top;\n",
       "    }\n",
       "\n",
       "    .dataframe thead th {\n",
       "        text-align: right;\n",
       "    }\n",
       "</style>\n",
       "<table border=\"1\" class=\"dataframe\">\n",
       "  <thead>\n",
       "    <tr style=\"text-align: right;\">\n",
       "      <th></th>\n",
       "      <th>Unnamed: 0</th>\n",
       "      <th>id</th>\n",
       "      <th>conversation_id</th>\n",
       "      <th>date</th>\n",
       "      <th>tweet</th>\n",
       "      <th>clean_tweet</th>\n",
       "      <th>vader_scores_compound</th>\n",
       "      <th>vader_classification</th>\n",
       "    </tr>\n",
       "  </thead>\n",
       "  <tbody>\n",
       "    <tr>\n",
       "      <th>0</th>\n",
       "      <td>0</td>\n",
       "      <td>1230000000000000000.0</td>\n",
       "      <td>1230000000000000000.0</td>\n",
       "      <td>2020-03-01 18:59</td>\n",
       "      <td>AstraZeneca sheds another drugline  https://t....</td>\n",
       "      <td>AstraZeneca sheds another drugline</td>\n",
       "      <td>0.0000</td>\n",
       "      <td>NEUTRAL</td>\n",
       "    </tr>\n",
       "    <tr>\n",
       "      <th>1</th>\n",
       "      <td>1</td>\n",
       "      <td>1230000000000000000.0</td>\n",
       "      <td>1230000000000000000.0</td>\n",
       "      <td>2020-03-01 18:59</td>\n",
       "      <td>omg hicieron la version moderna de scum yaaas ...</td>\n",
       "      <td>omg hicieron la version moderna de scum yaaas ...</td>\n",
       "      <td>0.0000</td>\n",
       "      <td>NEUTRAL</td>\n",
       "    </tr>\n",
       "    <tr>\n",
       "      <th>2</th>\n",
       "      <td>2</td>\n",
       "      <td>1230000000000000000.0</td>\n",
       "      <td>1230000000000000000.0</td>\n",
       "      <td>2020-03-01 18:59</td>\n",
       "      <td>Remember The Church of Notre Dame. Its going t...</td>\n",
       "      <td>Remember The Church of Notre Dame. Its going t...</td>\n",
       "      <td>-0.5994</td>\n",
       "      <td>NEGATIVE</td>\n",
       "    </tr>\n",
       "    <tr>\n",
       "      <th>3</th>\n",
       "      <td>3</td>\n",
       "      <td>1230000000000000000.0</td>\n",
       "      <td>1230000000000000000.0</td>\n",
       "      <td>2020-03-01 18:49</td>\n",
       "      <td>Moderna currently has strategic alliances for ...</td>\n",
       "      <td>Moderna currently has strategic alliances for ...</td>\n",
       "      <td>0.0000</td>\n",
       "      <td>NEUTRAL</td>\n",
       "    </tr>\n",
       "    <tr>\n",
       "      <th>4</th>\n",
       "      <td>4</td>\n",
       "      <td>1230000000000000000.0</td>\n",
       "      <td>1230000000000000000.0</td>\n",
       "      <td>2020-03-01 18:44</td>\n",
       "      <td>Victory! Pharma Giant Pfizer Bans the Cruel Fo...</td>\n",
       "      <td>Victory! Pharma Giant Pfizer Bans the Cruel Fo...</td>\n",
       "      <td>-0.7959</td>\n",
       "      <td>NEGATIVE</td>\n",
       "    </tr>\n",
       "  </tbody>\n",
       "</table>\n",
       "</div>"
      ],
      "text/plain": [
       "   Unnamed: 0                     id        conversation_id              date  \\\n",
       "0           0  1230000000000000000.0  1230000000000000000.0  2020-03-01 18:59   \n",
       "1           1  1230000000000000000.0  1230000000000000000.0  2020-03-01 18:59   \n",
       "2           2  1230000000000000000.0  1230000000000000000.0  2020-03-01 18:59   \n",
       "3           3  1230000000000000000.0  1230000000000000000.0  2020-03-01 18:49   \n",
       "4           4  1230000000000000000.0  1230000000000000000.0  2020-03-01 18:44   \n",
       "\n",
       "                                               tweet  \\\n",
       "0  AstraZeneca sheds another drugline  https://t....   \n",
       "1  omg hicieron la version moderna de scum yaaas ...   \n",
       "2  Remember The Church of Notre Dame. Its going t...   \n",
       "3  Moderna currently has strategic alliances for ...   \n",
       "4  Victory! Pharma Giant Pfizer Bans the Cruel Fo...   \n",
       "\n",
       "                                         clean_tweet  vader_scores_compound  \\\n",
       "0               AstraZeneca sheds another drugline                   0.0000   \n",
       "1  omg hicieron la version moderna de scum yaaas ...                 0.0000   \n",
       "2  Remember The Church of Notre Dame. Its going t...                -0.5994   \n",
       "3  Moderna currently has strategic alliances for ...                 0.0000   \n",
       "4  Victory! Pharma Giant Pfizer Bans the Cruel Fo...                -0.7959   \n",
       "\n",
       "  vader_classification  \n",
       "0              NEUTRAL  \n",
       "1              NEUTRAL  \n",
       "2             NEGATIVE  \n",
       "3              NEUTRAL  \n",
       "4             NEGATIVE  "
      ]
     },
     "execution_count": 13,
     "metadata": {},
     "output_type": "execute_result"
    }
   ],
   "source": [
    "df.head()"
   ]
  },
  {
   "cell_type": "code",
   "execution_count": 14,
   "id": "8d6b2bd6",
   "metadata": {},
   "outputs": [],
   "source": [
    "df.to_csv('/Users/eshanyepurakan/Downloads/BaselineTWEET/tweets-vadered.csv')"
   ]
  },
  {
   "cell_type": "code",
   "execution_count": null,
   "id": "40fb9675",
   "metadata": {},
   "outputs": [],
   "source": []
  }
 ],
 "metadata": {
  "kernelspec": {
   "display_name": "Python 3",
   "language": "python",
   "name": "python3"
  },
  "language_info": {
   "codemirror_mode": {
    "name": "ipython",
    "version": 3
   },
   "file_extension": ".py",
   "mimetype": "text/x-python",
   "name": "python",
   "nbconvert_exporter": "python",
   "pygments_lexer": "ipython3",
   "version": "3.8.8"
  }
 },
 "nbformat": 4,
 "nbformat_minor": 5
}
